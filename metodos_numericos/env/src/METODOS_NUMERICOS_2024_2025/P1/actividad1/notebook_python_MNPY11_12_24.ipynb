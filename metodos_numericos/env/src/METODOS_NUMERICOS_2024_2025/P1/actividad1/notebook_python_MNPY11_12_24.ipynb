{
 "cells": [
  {
   "cell_type": "markdown",
   "id": "9daba227-c511-485f-af65-5adb2b5ac1d9",
   "metadata": {},
   "source": [
    "<div align=\"center\">\n",
    "\n",
    "## UNIVERSIDAD DE LAS FUERZAS ARMADAS - ESPE\n",
    "\n",
    "<img src=\"https://upload.wikimedia.org/wikipedia/commons/2/27/Logo_ESPE.png\" alt=\"logo_espe\" width=\"200\">\n",
    "\n",
    "<hr>\n",
    "\n",
    "### INGENIERÍA EN TI \n",
    "### ESTUDIANTE: NICOLÁS MUÑOZ\n",
    "### NRC: 3977\n",
    "### DOCENTE: ING. ADRIAN CEDEÑO\n",
    "### Actividad 1\n",
    "\n",
    "#### Fecha : 11/20/24\n",
    "\n",
    "<hr>\n",
    "\n",
    "</div>"
   ]
  },
  {
   "cell_type": "markdown",
   "id": "6a120239",
   "metadata": {},
   "source": [
    "\n",
    "## Operaciones con matrices y vectores\n",
    "\n",
    "### 1. Vectores u y v:\n",
    "\n",
    "$\\mathbf{u} = \\begin{bmatrix} 0 & 9 & 1 & 8 \\end{bmatrix}$\n",
    "\n",
    "$\\mathbf{v} = \\begin{bmatrix} 9 & 8 & 6 & 2 \\end{bmatrix}$\n",
    "\n",
    "### 2. Suma de vectores u + v:\n",
    "\n",
    "$\\mathbf{u} + \\mathbf{v} = \\begin{bmatrix} 0 & 9 & 1 & 8 \\end{bmatrix} + \\begin{bmatrix} 9 & 8 & 6 & 2 \\end{bmatrix} = \\begin{bmatrix} 0+9 & 9+8 & 1+6 & 8+2 \\end{bmatrix} = \\begin{bmatrix} 9 & 17 & 7 & 10 \\end{bmatrix}$\n",
    "\n",
    "### 3. Matrices A y B:\n",
    "\n",
    "$A = \\begin{bmatrix} 8 & 3 & 4 \\\\ 4 & 6 & 2 \\\\ 1 & 5 & 2 \\\\ 6 & 2 & 7 \\end{bmatrix}$\n",
    "\n",
    "$B = \\begin{bmatrix} 2 & -1 & 1 & 3 \\\\ 3 & 9 & 1 & 2 \\\\ 5 & 1 & 4 & 6 \\\\ 2 & 3 & 7 & 2 \\end{bmatrix}$\n",
    "\n",
    "### 4. Resta de matrices A - B:\n",
    "\n",
    "$A - B = \\begin{bmatrix} 8 & 3 & 4 \\\\ 4 & 6 & 2 \\\\ 1 & 5 & 2 \\\\ 6 & 2 & 7 \\end{bmatrix} - \\begin{bmatrix} 2 & -1 & 1 & 3 \\\\ 3 & 9 & 1 & 2 \\\\ 5 & 1 & 4 & 6 \\\\ 2 & 3 & 7 & 2 \\end{bmatrix} = \\boxed{\\text{Dimensiones incompatibles}}$ \n",
    "\n",
    "### 5. Producto matricial u * v (incompatible):\n",
    "\n",
    "\\begin{equation*}\n",
    "\\mathbf{u} \\cdot \\mathbf{v} = \\begin{bmatrix} 0 & 9 & 1 & 8 \\end{bmatrix} \\cdot \\begin{bmatrix} 9 & 8 & 6 & 2 \\end{bmatrix} =  \\boxed{\\text{Dimensiones incompatibles}}\n",
    "\\end{equation*}\n",
    "\n",
    "### 6. Producto matricial  u<sup>T</sup> * v :\n",
    "\n",
    "\\begin{equation*}\n",
    "\\mathbf{u}^T \\cdot \\mathbf{v} = \\begin{bmatrix} 0 \\\\ 9 \\\\ 1 \\\\ 8 \\end{bmatrix} \\cdot \\begin{bmatrix} 9 & 8 & 6 & 2 \\end{bmatrix} = \n",
    "\\begin{bmatrix} \n",
    "0\\cdot9 & 0\\cdot8 & 0\\cdot6 & 0\\cdot2 \\\\\n",
    "9\\cdot9 & 9\\cdot8 & 9\\cdot6 & 9\\cdot2 \\\\\n",
    "1\\cdot9 & 1\\cdot8 & 1\\cdot6 & 1\\cdot2 \\\\\n",
    "8\\cdot9 & 8\\cdot8 & 8\\cdot6 & 8\\cdot2 \n",
    "\\end{bmatrix}\n",
    "= \\begin{bmatrix} 0 & 0 & 0 & 0 \\\\ 81 & 72 & 54 & 18 \\\\ 9 & 8 & 6 & 2 \\\\ 72 & 64 & 48 & 16 \\end{bmatrix}\n",
    "\\end{equation*}\n",
    "\n",
    "### 7.  Producto matricial A * B (incompatible):\n",
    "\n",
    "$ A \\cdot B = \\begin{bmatrix} 8 & 3 & 4 \\\\ 4 & 6 & 2 \\\\ 1 & 5 & 2 \\\\ 6 & 2 & 7 \\end{bmatrix}  \\cdot \\begin{bmatrix} 2 & -1 & 1 & 3 \\\\ 3 & 9 & 1 & 2 \\\\ 5 & 1 & 4 & 6 \\\\ 2 & 3 & 7 & 2 \\end{bmatrix} = \\boxed{\\text{Dimensiones incompatibles}}$ \n",
    "\n",
    "### 8. Producto matricial B * A:\n",
    "\n",
    "\\begin{equation*}\n",
    "B \\cdot A =  \\begin{bmatrix} 2 & -1 & 1 & 3 \\\\ 3 & 9 & 1 & 2 \\\\ 5 & 1 & 4 & 6 \\\\ 2 & 3 & 7 & 2 \\end{bmatrix} \\cdot \\begin{bmatrix} 8 & 3 & 4 \\\\ 4 & 6 & 2 \\\\ 1 & 5 & 2 \\\\ 6 & 2 & 7 \\end{bmatrix} = \n",
    "\\begin{bmatrix} \n",
    "2\\cdot8 + (-1)\\cdot4 + 1\\cdot1 + 3\\cdot6 & 2\\cdot3 + (-1)\\cdot6 + 1\\cdot5 + 3\\cdot2 & 2\\cdot4 + (-1)\\cdot2 + 1\\cdot2 + 3\\cdot7 \\\\\n",
    "3\\cdot8 + 9\\cdot4 + 1\\cdot1 + 2\\cdot6 & 3\\cdot3 + 9\\cdot6 + 1\\cdot5 + 2\\cdot2 & 3\\cdot4 + 9\\cdot2 + 1\\cdot2 + 2\\cdot7 \\\\\n",
    "5\\cdot8 + 1\\cdot4 + 4\\cdot1 + 6\\cdot6 & 5\\cdot3 + 1\\cdot6 + 4\\cdot5 + 6\\cdot2 & 5\\cdot4 + 1\\cdot2 + 4\\cdot2 + 6\\cdot7 \\\\\n",
    "2\\cdot8 + 3\\cdot4 + 7\\cdot1 + 2\\cdot6 & 2\\cdot3 + 3\\cdot6 + 7\\cdot5 + 2\\cdot2 & 2\\cdot4 + 3\\cdot2 + 7\\cdot2 + 2\\cdot7 \n",
    "\\end{bmatrix}\n",
    "\\end{equation*}\n",
    "\n",
    "\\begin{equation*}\n",
    "= \\begin{bmatrix} 31 & 11 & 29 \\\\ 73 & 71 & 48  \\\\ 84 & 53 & 72 \\\\ 45 & 59 & 42 \\end{bmatrix}\n",
    "\\end{equation*}"
   ]
  },
  {
   "cell_type": "code",
   "execution_count": 1,
   "id": "9a193924",
   "metadata": {},
   "outputs": [],
   "source": [
    "# importacion de libreias \n",
    "\n",
    "import numpy as np "
   ]
  },
  {
   "cell_type": "markdown",
   "id": "2bddc5ce",
   "metadata": {},
   "source": [
    "# importante ! : ELIMINAR TODOS LOS PRINTS ()"
   ]
  },
  {
   "cell_type": "code",
   "execution_count": 2,
   "id": "7e9fd2d6",
   "metadata": {},
   "outputs": [],
   "source": [
    "#? creacion de vector u & v\n",
    "\n",
    "#! vectorBidemensional = np.array([[2,1,4,6],[1,6,7,5]]) \n",
    "u= np.array([0,9,1,8])\n",
    "u = u.reshape(1, -1) #! dejar estandar vector fila\n",
    "\n",
    "v= np.array([9,8,6,2])\n",
    "v = v.reshape(1, -1) #! dejar estandar vector fila\n"
   ]
  },
  {
   "cell_type": "code",
   "execution_count": 3,
   "id": "7225f777",
   "metadata": {},
   "outputs": [
    {
     "name": "stdout",
     "output_type": "stream",
     "text": [
      "[[ 9 17  7 10]]\n",
      "[[8 3 4]\n",
      " [4 6 2]\n",
      " [1 5 2]\n",
      " [6 2 7]]\n",
      "\n",
      "\n",
      "[[ 2 -1  1  3]\n",
      " [ 3  9  1  2]\n",
      " [ 5  1  4  6]\n",
      " [ 2  3  7  2]]\n"
     ]
    }
   ],
   "source": [
    "#? creacion de mi variable suma1\n",
    "\n",
    "suma1= u+v\n",
    "#? impresión de respuesta suma1\n",
    "print(suma1)\n",
    "\n",
    "#? creación de mi matriz A & B \n",
    "\n",
    "A= np.array([[8,3,4],[4,6,2],[1,5,2],[6,2,7]])\n",
    "print(A)\n",
    "B= np.array([[2,-1,1,3],[3,9,1,2],[5,1,4,6],[2,3,7,2]])\n",
    "print(\"\\n\")\n",
    "print(B)"
   ]
  },
  {
   "cell_type": "code",
   "execution_count": 4,
   "id": "99402706",
   "metadata": {},
   "outputs": [
    {
     "name": "stdout",
     "output_type": "stream",
     "text": [
      "Dimensiones incompatibles\n"
     ]
    }
   ],
   "source": [
    "# ! creacion de mi variable suma2\n",
    "# ! el operador subtract permite hacer la diferencia de matrices\n",
    "\n",
    "#! suma 2 , resta de matrices \n",
    "\n",
    "try:\n",
    "   suma2= np.subtract(A,B)\n",
    "except ValueError:\n",
    "   suma2=\"Dimensiones incompatibles\"\n",
    "   \n",
    "print(suma2)\n",
    "    "
   ]
  },
  {
   "cell_type": "code",
   "execution_count": 7,
   "id": "11a5eb6f",
   "metadata": {},
   "outputs": [
    {
     "name": "stdout",
     "output_type": "stream",
     "text": [
      "El producto matricial de u y v:  Dimensiones incompatibles\n"
     ]
    }
   ],
   "source": [
    "#? producto matricial prodmtx1\n",
    "try:\n",
    "   prodmtx1= np.dot(u,v)\n",
    "except ValueError :\n",
    "    prodmtx1=\"Dimensiones incompatibles\"\n",
    "\n",
    "\n",
    "print(\"El producto matricial de u y v: \",prodmtx1)\n"
   ]
  },
  {
   "cell_type": "code",
   "execution_count": 5,
   "id": "2d49dbfd",
   "metadata": {},
   "outputs": [
    {
     "name": "stdout",
     "output_type": "stream",
     "text": [
      "\n",
      "Transpuesta de <v>: [[9]\n",
      " [8]\n",
      " [6]\n",
      " [2]]\n",
      "\n",
      "Producto matricial de u*vT:\n",
      " [[94]]\n"
     ]
    }
   ],
   "source": [
    "#? producto matricial prodmtx2\n",
    "#! crear transpuesta de v\n",
    "\n",
    "vT = v.reshape(-1, 1) #!  transformar de una vector fila a un vector columna (quito fila y dejo columna)\n",
    "\n",
    "print(f\"\\nTranspuesta de <v>: {vT}\")\n",
    "prodmtx2=np.dot(u,vT) \n",
    "print(f\"\\nProducto matricial de u*vT:\\n {prodmtx2}\")\n"
   ]
  },
  {
   "cell_type": "code",
   "execution_count": 8,
   "id": "73ab2622",
   "metadata": {},
   "outputs": [],
   "source": [
    "#? producto matricial prodmtx3\n",
    "\n",
    "try:\n",
    "   prodmtx3= np.dot(A,B)\n",
    "except ValueError :\n",
    "    prodmtx3=\"Dimensiones incompatibles\"\n",
    "\n"
   ]
  },
  {
   "cell_type": "code",
   "execution_count": 9,
   "id": "c35a3e8d",
   "metadata": {},
   "outputs": [
    {
     "name": "stdout",
     "output_type": "stream",
     "text": [
      "\n",
      "Producto matricial de BA:\n",
      " [[31 11 29]\n",
      " [73 72 46]\n",
      " [84 53 72]\n",
      " [47 63 42]]\n"
     ]
    }
   ],
   "source": [
    "#? producto matricial prodmtx4\n",
    "\n",
    "\n",
    "prodmtx4=np.dot(B,A) \n",
    "print(f\"\\nProducto matricial de BA:\\n {prodmtx4}\")\n"
   ]
  },
  {
   "cell_type": "code",
   "execution_count": 10,
   "id": "541cb425",
   "metadata": {},
   "outputs": [
    {
     "name": "stdout",
     "output_type": "stream",
     "text": [
      "\n",
      "producto elemento a elemento de uv:\n",
      " [[ 0 72  6 16]]\n",
      "\n"
     ]
    }
   ],
   "source": [
    "#? prodcu1= uv\n",
    "prodcu1= u*v\n",
    "print(f\"\\nproducto elemento a elemento de uv:\\n {prodcu1}\\n\")"
   ]
  },
  {
   "cell_type": "code",
   "execution_count": 11,
   "id": "3b689b90",
   "metadata": {},
   "outputs": [
    {
     "name": "stdout",
     "output_type": "stream",
     "text": [
      "\n",
      "dimension u: (1, 4)\n",
      "\n",
      "dimension uT: (4, 1)\n",
      "\n",
      "transpuesta u: \n",
      " [[0]\n",
      " [9]\n",
      " [1]\n",
      " [8]]\n",
      "\n",
      "producto elemento a elemento de uTv:\n",
      " [[ 0  0  0  0]\n",
      " [81 72 54 18]\n",
      " [ 9  8  6  2]\n",
      " [72 64 48 16]]\n",
      "\n"
     ]
    }
   ],
   "source": [
    "#? prodcu2= uTV\n",
    "#* transpuesta de u : \n",
    "uT = u.reshape(-1, 1) #!  transformar de una vector fila a un vector columna (quito fila y dejo columna)\n",
    "\n",
    "print(f\"\\ndimension u: {np.shape(u)}\")\n",
    "print(f\"\\ndimension uT: {np.shape(uT)}\")\n",
    "print(\"\\ntranspuesta u: \\n\",uT)\n",
    "prodcu2= uT*v\n",
    "print(f\"\\nproducto elemento a elemento de uTv:\\n {prodcu2}\\n\")\n"
   ]
  },
  {
   "cell_type": "code",
   "execution_count": null,
   "id": "3776d85e",
   "metadata": {},
   "outputs": [
    {
     "name": "stdout",
     "output_type": "stream",
     "text": [
      "Dimensiones incompatibles\n"
     ]
    }
   ],
   "source": [
    "#? prodcu3= AB\n",
    "try:\n",
    "    prodcu3= A*B\n",
    "    print(f\"\\nproducto elemento a elemento de AB:\\n {prodcu3}\\n\")\n",
    "except ValueError :\n",
    "    prodcu3=\"Dimensiones incompatibles\"\n",
    "print(prodcu33)\n"
   ]
  }
 ],
 "metadata": {
  "kernelspec": {
   "display_name": "env",
   "language": "python",
   "name": "python3"
  },
  "language_info": {
   "codemirror_mode": {
    "name": "ipython",
    "version": 3
   },
   "file_extension": ".py",
   "mimetype": "text/x-python",
   "name": "python",
   "nbconvert_exporter": "python",
   "pygments_lexer": "ipython3",
   "version": "3.10.12"
  }
 },
 "nbformat": 4,
 "nbformat_minor": 5
}
